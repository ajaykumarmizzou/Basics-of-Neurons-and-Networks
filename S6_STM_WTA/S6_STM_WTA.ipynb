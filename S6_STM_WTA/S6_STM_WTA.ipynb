{
  "cells": [
    {
      "cell_type": "markdown",
      "metadata": {},
      "source": [
        "[![Open in Colab](https://colab.research.google.com/assets/colab-badge.svg)](https://colab.research.google.com/github/cyneuro/Basics-of-Neurons-and-Networks/blob/main/S6_STM_WTA/S6_STM_WTA.ipynb)"
      ]
    },
    {
      "cell_type": "markdown",
      "metadata": {
        "id": "M1HY8uOZ1-Rk"
      },
      "source": [
        "# S6 Two Neural Networks\n",
        "## - (i) Short-term memory  (ii) Winner-take-all\n",
        "##### Developed in the Neural Engineering Laboratory at the University of Missouri(Mizzou)"
      ]
    },
    {
      "cell_type": "markdown",
      "metadata": {
        "id": "v1wjhMt51-Rr"
      },
      "source": [
        "## Install NEURON"
      ]
    },
    {
      "cell_type": "code",
      "execution_count": 1,
      "metadata": {
        "colab": {
          "base_uri": "https://localhost:8080/"
        },
        "id": "d8a3bg8P1-Ru",
        "outputId": "1d9b799e-e396-4946-d145-0c8c8a98639d"
      },
      "outputs": [],
      "source": [
        "RunningInCOLAB = 'google.colab' in str(get_ipython())  # checks to see if we are in google colab\n",
        "if RunningInCOLAB:                                     # installs packages if in colab \n",
        "    !pip install ipywidgets &> /dev/null\n",
        "    !pip install neuron==8.0.0 &> /dev/null"
      ]
    },
    {
      "cell_type": "markdown",
      "metadata": {
        "id": "H_cnzJDU2Gcc"
      },
      "source": [
        "### Download modfiles from github"
      ]
    },
    {
      "cell_type": "code",
      "execution_count": 2,
      "metadata": {
        "colab": {
          "base_uri": "https://localhost:8080/"
        },
        "id": "nOQf-uKX2JOc",
        "outputId": "fbb048e5-adee-469c-d967-7f69bdf6fdba"
      },
      "outputs": [
        {
          "name": "stdout",
          "output_type": "stream",
          "text": [
            "/Users/gregglickert/Documents/GitHub/Computational-Neuroscience-Tutorials/S6_STM_WTA\n",
            "AMPA_syn.mod      S6_STM_WTA.ipynb  leak_current.mod\n",
            "GABA_syn.mod      kd_current.mod    na_current.mod\n"
          ]
        }
      ],
      "source": [
        "import os\n",
        "from os.path import normpath, sep, join\n",
        "\n",
        "root = 'Basics-of-Neurons-and-Networks'\n",
        "folder = 'S6_STM_WTA'\n",
        "pathlist = normpath(os.getcwd()).split(sep)\n",
        "if pathlist[-1] != folder:\n",
        "  rootidx = pathlist.index(root) if root in pathlist else -1\n",
        "  if rootidx>0:\n",
        "    os.chdir(join(sep,*pathlist[:rootidx]))\n",
        "  !git clone https://github.com/cyneuro/Basics-of-Neurons-and-Networks.git &> /dev/null\n",
        "  os.chdir(join(root,folder))"
      ]
    },
    {
      "cell_type": "markdown",
      "metadata": {
        "id": "SZjv_lvk2NTF"
      },
      "source": [
        "#### Before running the simulation, you need to compile the mod files only once for the first time."
      ]
    },
    {
      "cell_type": "code",
      "execution_count": 3,
      "metadata": {
        "colab": {
          "base_uri": "https://localhost:8080/"
        },
        "id": "yFRxrYMk1-Ry",
        "outputId": "496964ef-d90d-4688-e15c-a9725cc8ee75"
      },
      "outputs": [
        {
          "name": "stderr",
          "output_type": "stream",
          "text": [
            "/Users/gregglickert/opt/anaconda3/envs/bmtk/bin/nrnivmodl:10: DeprecationWarning: pkg_resources is deprecated as an API. See https://setuptools.pypa.io/en/latest/pkg_resources.html\n",
            "  from pkg_resources import working_set\n"
          ]
        },
        {
          "name": "stdout",
          "output_type": "stream",
          "text": [
            "/usr/bin/xcrun\n",
            "/Users/gregglickert/Documents/GitHub/Computational-Neuroscience-Tutorials/S6_STM_WTA\n",
            "Mod files: \"./AMPA_syn.mod\" \"./GABA_syn.mod\" \"./kd_current.mod\" \"./leak_current.mod\" \"./na_current.mod\"\n",
            "\n",
            "Creating 'x86_64' directory for .o files.\n",
            "\n",
            " -> \u001b[32mCompiling\u001b[0m mod_func.cpp\n",
            " -> \u001b[32mNMODL\u001b[0m ../AMPA_syn.mod\n",
            " -> \u001b[32mNMODL\u001b[0m ../kd_current.mod\n",
            " -> \u001b[32mNMODL\u001b[0m ../GABA_syn.mod\n",
            "Warning: Default -80 of PARAMETER ek will be ignored and set by NEURON.\n",
            " -> \u001b[32mNMODL\u001b[0m ../leak_current.mod\n",
            " -> \u001b[32mNMODL\u001b[0m ../na_current.mod\n",
            "Warning: Default 45 of PARAMETER ena will be ignored and set by NEURON.\n",
            " -> \u001b[32mCompiling\u001b[0m AMPA_syn.c\n",
            " -> \u001b[32mCompiling\u001b[0m GABA_syn.c\n",
            " -> \u001b[32mCompiling\u001b[0m kd_current.c\n"
          ]
        },
        {
          "name": "stderr",
          "output_type": "stream",
          "text": [
            "Translating kd_current.mod into /Users/gregglickert/Documents/GitHub/Computational-Neuroscience-Tutorials/S6_STM_WTA/x86_64/kd_current.c\n",
            "Translating GABA_syn.mod into /Users/gregglickert/Documents/GitHub/Computational-Neuroscience-Tutorials/S6_STM_WTA/x86_64/GABA_syn.c\n",
            "Translating AMPA_syn.mod into /Users/gregglickert/Documents/GitHub/Computational-Neuroscience-Tutorials/S6_STM_WTA/x86_64/AMPA_syn.c\n",
            "WARNING: Dimensions may be wrong for READ ica with POINT_PROCESS\n",
            "WARNING: Dimensions may be wrong for READ ica with POINT_PROCESS\n",
            "WARNING: Dimensions may be wrong for READ ica with POINT_PROCESS\n",
            "WARNING: Dimensions may be wrong for READ ica with POINT_PROCESS\n",
            "WARNING: Dimensions may be wrong for READ ica with POINT_PROCESS\n",
            "WARNING: Dimensions may be wrong for READ ica with POINT_PROCESS\n",
            "WARNING: Dimensions may be wrong for READ ica with POINT_PROCESS\n",
            "WARNING: Dimensions may be wrong for READ ica with POINT_PROCESS\n",
            "WARNING: Dimensions may be wrong for READ ica with POINT_PROCESS\n",
            "WARNING: Dimensions may be wrong for READ ica with POINT_PROCESS\n",
            "Thread Safe\n",
            "Thread Safe\n",
            "Thread Safe\n",
            "Translating na_current.mod into /Users/gregglickert/Documents/GitHub/Computational-Neuroscience-Tutorials/S6_STM_WTA/x86_64/na_current.c\n",
            "Translating leak_current.mod into /Users/gregglickert/Documents/GitHub/Computational-Neuroscience-Tutorials/S6_STM_WTA/x86_64/leak_current.c\n",
            "Thread Safe\n",
            "Thread Safe\n",
            "kd_current.c:43:18: warning: a function declaration without a prototype is deprecated in all versions of C and is treated as a zero-parameter prototype in C2x, conflicting with a previous declaration [-Wdeprecated-non-prototype]\n",
            "GABA_syn.c:42:18:          extern double *getarg();warning: \n",
            "a function declaration without a prototype is deprecated in all versions of C and is treated as a zero-parameter prototype in C2x, conflicting with a previous declaration [-Wdeprecated-non-prototype]                        ^\n",
            "\n",
            "         extern double *getarg();\n",
            "                        ^\n",
            "/Users/gregglickert/opt/anaconda3/envs/bmtk/lib/python3.8/site-packages/neuron/.data/include/hocdec.h:15:17: note: expanded from macro 'getarg'\n",
            "#define getarg  hoc_getarg\n",
            "                ^\n",
            "/Users/gregglickert/opt/anaconda3/envs/bmtk/lib/python3.8/site-packages/neuron/.data/include/hocdec.h:15:17: note: expanded from macro 'getarg'\n",
            "/Users/gregglickert/opt/anaconda3/envs/bmtk/lib/python3.8/site-packages/neuron/.data/include/oc_ansi.h:49#define getarg  hoc_getarg:\n",
            "16                ^:\n",
            " note: conflicting prototype is here\n",
            "extern double* getarg(int);\n",
            "               ^\n",
            "/Users/gregglickert/opt/anaconda3/envs/bmtk/lib/python3.8/site-packages/neuron/.data/include/hocdec.h:/Users/gregglickert/opt/anaconda3/envs/bmtk/lib/python3.8/site-packages/neuron/.data/include/oc_ansi.h:49:16: note: conflicting prototype is here\n",
            "extern double* getarg(int);15:17: note: expanded from macro 'getarg'\n",
            "\n",
            "               ^\n",
            "#define getarg  hoc_getarg\n",
            "                ^\n",
            "/Users/gregglickert/opt/anaconda3/envs/bmtk/lib/python3.8/site-packages/neuron/.data/include/hocdec.h:15:17: note: expanded from macro 'getarg'\n",
            "#define getarg  hoc_getarg\n",
            "                ^\n",
            "AMPA_syn.c:42:18: warning: a function declaration without a prototype is deprecated in all versions of C and is treated as a zero-parameter prototype in C2x, conflicting with a previous declaration [-Wdeprecated-non-prototype]\n",
            "         extern double *getarg();\n",
            "                        ^\n",
            "/Users/gregglickert/opt/anaconda3/envs/bmtk/lib/python3.8/site-packages/neuron/.data/include/hocdec.h:15:17: note: expanded from macro 'getarg'\n",
            "#define getarg  hoc_getarg\n",
            "                ^\n",
            "/Users/gregglickert/opt/anaconda3/envs/bmtk/lib/python3.8/site-packages/neuron/.data/include/oc_ansi.h:49:16: note: conflicting prototype is here\n",
            "extern double* getarg(int);\n",
            "               ^\n",
            "/Users/gregglickert/opt/anaconda3/envs/bmtk/lib/python3.8/site-packages/neuron/.data/include/hocdec.h:15:17: note: expanded from macro 'getarg'\n",
            "#define getarg  hoc_getarg\n",
            "                ^\n",
            "GABA_syn.c:349:32: warning: a function declaration without a prototype is deprecated in all versions of C and is treated as a zero-parameter prototype in C2x, conflicting with a previous declaration [-Wdeprecated-non-prototype]\n",
            "  if (_tsav > t){ extern char* hoc_object_name(); hoc_execerror(hoc_object_name(_pnt->ob), \":Event arrived out of order. Must call ParallelContext.set_maxstep AFTER assigning minimum NetCon.delay\");}\n",
            "                               ^\n",
            "/Users/gregglickert/opt/anaconda3/envs/bmtk/lib/python3.8/site-packages/neuron/.data/include/oc_ansi.h:46:14: note: conflicting prototype is here\n",
            "extern char* hoc_object_name(Object*);\n",
            "             ^\n",
            "AMPA_syn.c:349:32: warning: a function declaration without a prototype is deprecated in all versions of C and is treated as a zero-parameter prototype in C2x, conflicting with a previous declaration [-Wdeprecated-non-prototype]\n",
            "  if (_tsav > t){ extern char* hoc_object_name(); hoc_execerror(hoc_object_name(_pnt->ob), \":Event arrived out of order. Must call ParallelContext.set_maxstep AFTER assigning minimum NetCon.delay\");}\n",
            "                               ^\n",
            "/Users/gregglickert/opt/anaconda3/envs/bmtk/lib/python3.8/site-packages/neuron/.data/include/oc_ansi.h:46:14: note: conflicting prototype is here\n",
            "extern char* hoc_object_name(Object*);\n",
            "             ^\n"
          ]
        },
        {
          "name": "stdout",
          "output_type": "stream",
          "text": [
            " -> \u001b[32mCompiling\u001b[0m leak_current.c\n",
            " -> \u001b[32mCompiling\u001b[0m na_current.c\n"
          ]
        },
        {
          "name": "stderr",
          "output_type": "stream",
          "text": [
            "1 warning generated.\n",
            "2 warnings generated.\n",
            "2 warnings generated.\n",
            "leak_current.c:41:18: warning: a function declaration without a prototype is deprecated in all versions of C and is treated as a zero-parameter prototype in C2x, conflicting with a previous declaration [-Wdeprecated-non-prototype]\n",
            "         extern double *getarg();\n",
            "                        ^\n",
            "/Users/gregglickert/opt/anaconda3/envs/bmtk/lib/python3.8/site-packages/neuron/.data/include/hocdec.h:15:17: note: expanded from macro 'getarg'\n",
            "#define getarg  hoc_getarg\n",
            "                ^\n",
            "/Users/gregglickert/opt/anaconda3/envs/bmtk/lib/python3.8/site-packages/neuron/.data/include/oc_ansi.h:49:16: note: conflicting prototype is here\n",
            "extern double* getarg(int);\n",
            "               ^\n",
            "/Users/gregglickert/opt/anaconda3/envs/bmtk/lib/python3.8/site-packages/neuron/.data/include/hocdec.h:15:17: note: expanded from macro 'getarg'\n",
            "#define getarg  hoc_getarg\n",
            "                ^\n",
            "1 warning generated.\n",
            "na_current.c:43:18: warning: a function declaration without a prototype is deprecated in all versions of C and is treated as a zero-parameter prototype in C2x, conflicting with a previous declaration [-Wdeprecated-non-prototype]\n",
            "         extern double *getarg();\n",
            "                        ^\n",
            "/Users/gregglickert/opt/anaconda3/envs/bmtk/lib/python3.8/site-packages/neuron/.data/include/hocdec.h:15:17: note: expanded from macro 'getarg'\n",
            "#define getarg  hoc_getarg\n",
            "                ^\n",
            "/Users/gregglickert/opt/anaconda3/envs/bmtk/lib/python3.8/site-packages/neuron/.data/include/oc_ansi.h:49:16: note: conflicting prototype is here\n",
            "extern double* getarg(int);\n",
            "               ^\n",
            "/Users/gregglickert/opt/anaconda3/envs/bmtk/lib/python3.8/site-packages/neuron/.data/include/hocdec.h:15:17: note: expanded from macro 'getarg'\n",
            "#define getarg  hoc_getarg\n",
            "                ^\n",
            "1 warning generated.\n"
          ]
        },
        {
          "name": "stdout",
          "output_type": "stream",
          "text": [
            " => \u001b[32mLINKING\u001b[0m shared library ./libnrnmech.dylib\n",
            " => \u001b[32mLINKING\u001b[0m executable ./special LDFLAGS are:    \n",
            "Successfully created x86_64/special\n",
            "0\n"
          ]
        },
        {
          "name": "stderr",
          "output_type": "stream",
          "text": [
            "ld: warning: ignoring duplicate libraries: '-lnrnmech'\n"
          ]
        }
      ],
      "source": [
        "import os\n",
        "print(os.system('nrnivmodl')) # compile modfiles. Return 0 for success, 1 for failure."
      ]
    },
    {
      "cell_type": "markdown",
      "metadata": {
        "id": "KPUWCJax1-R2"
      },
      "source": [
        "### Run the codes below and answer the 6 questions at the end."
      ]
    },
    {
      "cell_type": "code",
      "execution_count": 4,
      "metadata": {
        "id": "kLgzg4dD1-R_"
      },
      "outputs": [],
      "source": [
        "import matplotlib.pyplot as plt\n",
        "from neuron import h\n",
        "h.load_file('stdrun.hoc')\n",
        "\n",
        "h.dt = 0.025 # time step (resolution) of the simulation in ms\n",
        "h.tstop = 700 # how long to run the simulation in ms\n",
        "h.v_init= -75 # initial membrane potential in mV\n",
        "\n",
        "# Single cell model\n",
        "class FastSpiking(object):\n",
        "    def __init__(self,net,nccl=1):\n",
        "        # Create cections\n",
        "        self.soma = h.Section(name='soma', cell=self)\n",
        "        self.dend = h.Section(name='dend', cell=self)\n",
        "        # Topology\n",
        "        self.dend.connect(self.soma(1),0)\n",
        "        # Geometry & biophysics\n",
        "        if net=='STM':\n",
        "            self.soma.L = 42.346621 # micrometers\n",
        "            self.soma.diam = 5.3132928 # micrometers\n",
        "            self.soma.Ra = 150 # ohm-cm\n",
        "        else:  # WTA\n",
        "            self.soma.L = 15 # micrometers\n",
        "            self.soma.diam = 15 # micrometers\n",
        "            self.soma.Ra = 150*22.5 # ohm-cm\n",
        "        self.soma.nseg = self.dend.nseg = 1\n",
        "        self.dend.L = 150 # micrometers\n",
        "        self.dend.diam = 10 # micrometers\n",
        "        self.dend.Ra = 150 # ohm-cm\n",
        "        self.soma.cm = self.dend.cm = 1 # uF/cm2\n",
        "        # insert channels\n",
        "        self.soma.insert('leak'); self.soma.insert('na'); self.soma.insert('kdr')\n",
        "        self.soma.el_leak = -70; self.soma.ena = 45; self.soma.ek = -80 # mV\n",
        "        self.soma.glbar_leak = 0.00005; self.soma.gnabar_na = .035; self.soma.gkdrbar_kdr = .008 # S/cm2\n",
        "        self.dend.insert('leak'); self.dend.insert('na'); self.dend.insert('kdr')\n",
        "        self.dend.el_leak = -70; self.dend.ena = 45; self.dend.ek = -80 # mV\n",
        "        self.dend.glbar_leak = 0.00005; self.dend.gnabar_na = .010; self.dend.gkdrbar_kdr = .003 # S/cm2\n",
        "        # insert IClamp\n",
        "        self.ccl = []\n",
        "        for i in range(nccl): self.ccl.append(h.IClamp(self.soma(0.5)))\n",
        "        \n",
        "    def set_ccl(self,amp,dur=None,delay=None,n=0):\n",
        "        self.ccl[n].amp = amp\n",
        "        if dur is not None: self.ccl[n].dur = dur\n",
        "        if delay is not None: self.ccl[n].delay = delay\n",
        "\n",
        "# Cell list of STM and WTA\n",
        "NCell = 5\n",
        "STM_Cell = []\n",
        "STM_Cell.append(FastSpiking('STM',nccl=2))\n",
        "for i in range(1,NCell): STM_Cell.append(FastSpiking('WTA',nccl=0))\n",
        "WTA_Cell = []\n",
        "for i in range(NCell): WTA_Cell.append(FastSpiking('WTA'))\n",
        "\n",
        "# Create synaptic connection\n",
        "NCthreshold = 0\n",
        "NCdelay = 2\n",
        "NCweight = 1\n",
        "STMsyn = []; STMnc = []\n",
        "WTAsyn = []; WTAnc = []\n",
        "for i in range(NCell):\n",
        "    for j in range(NCell):\n",
        "        if i!=j:\n",
        "            STMsyn.append(h.AMPA(STM_Cell[j].dend(0.9)))\n",
        "            STMnc.append(h.NetCon(STM_Cell[i].soma(0.5)._ref_v,STMsyn[-1],NCthreshold,NCdelay,NCweight,sec=STM_Cell[i].soma))\n",
        "            WTAsyn.append(h.GABA(WTA_Cell[j].soma(0.1)))\n",
        "            WTAnc.append(h.NetCon(WTA_Cell[i].dend(0.5)._ref_v,WTAsyn[-1],NCthreshold,NCdelay,NCweight,sec=WTA_Cell[i].dend))\n",
        "\n",
        "# Define vectors for recording variables and record\n",
        "t_vec = h.Vector()\n",
        "t_vec.record(h._ref_t);\n",
        "STM_v_vec = []\n",
        "WTA_v_vec = []\n",
        "for i in range(NCell):\n",
        "    STM_v_vec.append(h.Vector()); WTA_v_vec.append(h.Vector())\n",
        "    STM_v_vec[i].record(STM_Cell[i].soma(0.5)._ref_v)\n",
        "    WTA_v_vec[i].record(WTA_Cell[i].soma(0.5)._ref_v)\n",
        "STM_ccl_vec = [h.Vector(),h.Vector()]\n",
        "for i in range(2): STM_ccl_vec[i].record(STM_Cell[0].ccl[i]._ref_i);\n",
        "WTA_ccl_vec = [h.Vector()]\n",
        "WTA_ccl_vec[0].record(WTA_Cell[0].ccl[0]._ref_i);"
      ]
    },
    {
      "cell_type": "code",
      "execution_count": 5,
      "metadata": {
        "id": "lYuSyuzT1-SG"
      },
      "outputs": [],
      "source": [
        "def set_syn_weight(synapses,weight):\n",
        "    for syn in synapses:\n",
        "        syn.initW = weight\n",
        "\n",
        "# Initialize synaptic weights\n",
        "STM_wgt = 2.1\n",
        "WTA_wgt = 9\n",
        "set_syn_weight(STMsyn,STM_wgt)\n",
        "set_syn_weight(WTAsyn,WTA_wgt)\n",
        "\n",
        "# Initialize current clamp\n",
        "STM_amp1 = 0.5; STM_amp2 = -0.15\n",
        "STM_Cell[0].set_ccl(STM_amp1,50,100,n=0)\n",
        "STM_Cell[0].set_ccl(STM_amp2,50,500,n=1)\n",
        "\n",
        "WTA_amp = [.2,0,0,0,0]\n",
        "# WTA_amp = [.321,.22,.219,.221,.2195]\n",
        "for (amp,cell) in zip(WTA_amp,WTA_Cell):\n",
        "    cell.set_ccl(amp,500,100)"
      ]
    },
    {
      "cell_type": "code",
      "execution_count": 6,
      "metadata": {
        "id": "7qO1zapT1-SK"
      },
      "outputs": [
        {
          "data": {
            "image/png": "[encoded data removed]",
            "text/plain": [
              "<Figure size 1500x600 with 6 Axes>"
            ]
          },
          "metadata": {},
          "output_type": "display_data"
        },
        {
          "data": {
            "image/png": "[encoded data removed]",
            "text/plain": [
              "<Figure size 1500x600 with 6 Axes>"
            ]
          },
          "metadata": {},
          "output_type": "display_data"
        }
      ],
      "source": [
        "plt.ioff()\n",
        "fig =[]; ax = []; axs = []\n",
        "for i in range(2):\n",
        "    fig.append(plt.figure(figsize=(15,6)))\n",
        "    ax.append(fig[-1].add_subplot(2,3,4))\n",
        "    axs.append([fig[-1].add_subplot(2,3,j+1 if j<3 else j+2) for j in range(NCell)])\n",
        "\n",
        "def plot_variables(*arg):\n",
        "    with out:\n",
        "        clear_output(wait=True)\n",
        "        display(fig[net.selected_index])\n",
        "\n",
        "def run_show(*arg):\n",
        "    set_syn_weight(STMsyn,w_wgt1.value)\n",
        "    set_syn_weight(WTAsyn,w_wgt2.value)\n",
        "    STM_Cell[0].set_ccl(w_Samp1.value,n=0)\n",
        "    STM_Cell[0].set_ccl(w_Samp2.value,n=1)\n",
        "    h.run()\n",
        "    for i in range(2):\n",
        "        ax[i].clear()\n",
        "        for ccl in WTA_ccl_vec if i else STM_ccl_vec:\n",
        "            ax[i].plot(t_vec,ccl)\n",
        "        if i: ax[i].legend(['Current injection on all cells'],loc=1)\n",
        "        else: ax[i].legend(['Current injection','on Cell 1'],loc=1)\n",
        "        ax[i].set_xlim(0,h.tstop)\n",
        "        ax[i].set_ylim(-0.2,0.8)\n",
        "        for j in range(NCell):\n",
        "            axs[i][j].clear()\n",
        "            axs[i][j].plot(t_vec,WTA_v_vec[j] if i else STM_v_vec[j],'gray')\n",
        "            axs[i][j].set_xlim(0,h.tstop)\n",
        "            axs[i][j].set_ylim(-90,60)\n",
        "            axs[i][j].legend(['Cell '+str(j+1)])\n",
        "    plot_variables()"
      ]
    },
    {
      "cell_type": "code",
      "execution_count": 7,
      "metadata": {
        "colab": {
          "base_uri": "https://localhost:8080/",
          "height": 628
        },
        "id": "S1abZ_SY1-SN",
        "outputId": "4a024994-5443-4c4d-c19d-20cc627d7a82",
        "scrolled": false
      },
      "outputs": [
        {
          "ename": "IndexError",
          "evalue": "list assignment index out of range",
          "output_type": "error",
          "traceback": [
            "\u001b[0;31m---------------------------------------------------------------------------\u001b[0m",
            "\u001b[0;31mIndexError\u001b[0m                                Traceback (most recent call last)",
            "Cell \u001b[0;32mIn[7], line 33\u001b[0m\n\u001b[1;32m     31\u001b[0m network \u001b[38;5;241m=\u001b[39m [\u001b[38;5;124m'\u001b[39m\u001b[38;5;124mShort-Term Memory\u001b[39m\u001b[38;5;124m'\u001b[39m,\u001b[38;5;124m'\u001b[39m\u001b[38;5;124mWinner-Take-All\u001b[39m\u001b[38;5;124m'\u001b[39m]\n\u001b[1;32m     32\u001b[0m net \u001b[38;5;241m=\u001b[39m widgets\u001b[38;5;241m.\u001b[39mTab()\n\u001b[0;32m---> 33\u001b[0m \u001b[38;5;28;01mfor\u001b[39;00m i \u001b[38;5;129;01min\u001b[39;00m \u001b[38;5;28mrange\u001b[39m(\u001b[38;5;241m2\u001b[39m): net\u001b[38;5;241m.\u001b[39mset_title(i,network[i])\n\u001b[1;32m     34\u001b[0m net\u001b[38;5;241m.\u001b[39mchildren \u001b[38;5;241m=\u001b[39m [tab1,tab2]\n\u001b[1;32m     35\u001b[0m net\u001b[38;5;241m.\u001b[39mobserve(plot_variables,\u001b[38;5;124m'\u001b[39m\u001b[38;5;124mselected_index\u001b[39m\u001b[38;5;124m'\u001b[39m)\n",
            "File \u001b[0;32m~/opt/anaconda3/envs/bmtk/lib/python3.8/site-packages/ipywidgets/widgets/widget_selectioncontainer.py:69\u001b[0m, in \u001b[0;36m_SelectionContainer.set_title\u001b[0;34m(self, index, title)\u001b[0m\n\u001b[1;32m     67\u001b[0m \u001b[38;5;28;01mif\u001b[39;00m title \u001b[38;5;129;01mis\u001b[39;00m \u001b[38;5;28;01mNone\u001b[39;00m:\n\u001b[1;32m     68\u001b[0m     title \u001b[38;5;241m=\u001b[39m \u001b[38;5;124m'\u001b[39m\u001b[38;5;124m'\u001b[39m\n\u001b[0;32m---> 69\u001b[0m \u001b[43mtitles\u001b[49m\u001b[43m[\u001b[49m\u001b[43mindex\u001b[49m\u001b[43m]\u001b[49m\u001b[38;5;241m=\u001b[39mtitle\n\u001b[1;32m     70\u001b[0m \u001b[38;5;28mself\u001b[39m\u001b[38;5;241m.\u001b[39mtitles \u001b[38;5;241m=\u001b[39m \u001b[38;5;28mtuple\u001b[39m(titles)\n",
            "\u001b[0;31mIndexError\u001b[0m: list assignment index out of range"
          ]
        }
      ],
      "source": [
        "import ipywidgets as widgets\n",
        "from ipywidgets import interactive_output,HBox,VBox,Label,Layout\n",
        "from IPython.display import display, clear_output\n",
        "%matplotlib inline\n",
        "\n",
        "w_reset = widgets.Button(description='Reset',icon='history',button_style='primary')\n",
        "w_wgt1 = widgets.BoundedFloatText(value=STM_wgt,min=0,max=100,step=0.1)\n",
        "w_wgt2 = widgets.BoundedFloatText(value=WTA_wgt,min=0,max=100,step=0.1)\n",
        "w_Samp1 = widgets.FloatText(value=STM_amp1,step=0.05)\n",
        "w_Samp2 = widgets.FloatText(value=STM_amp2,step=0.05)\n",
        "w_Wamp = []\n",
        "for i in range(NCell): w_Wamp.append(widgets.FloatText(value=WTA_amp[i],step=0.01,layout=Layout(width='80%')))\n",
        "\n",
        "def reset_default(*args):\n",
        "    w_wgt1.value = STM_wgt; w_wgt2.value = WTA_wgt\n",
        "    w_Samp1.value = STM_amp1; w_Samp2.value = STM_amp2;\n",
        "    for i in range(NCell): w_Wamp[i].value = WTA_amp[i]\n",
        "    run_show()\n",
        "w_reset.on_click(reset_default)\n",
        "\n",
        "def update_Wamp(*args):\n",
        "    for i in range(NCell): WTA_Cell[i].set_ccl(w_Wamp[i].value)\n",
        "for w in w_Wamp: w.observe(update_Wamp,'value')\n",
        "\n",
        "labels = [' ','Synaptic Weight','Current injection (nA): ','Cell 1 first pulse','Cell 1 second pulse']\n",
        "for i in range(NCell): labels.append('Cell '+str(i+1))\n",
        "Labels = [Label(L) for L in labels]\n",
        "tab1 = VBox([ HBox([Labels[1],w_wgt1]), Labels[2], HBox([ VBox([Labels[3],w_Samp1]),VBox([Labels[4],w_Samp2]) ])])\n",
        "tab2 = VBox([ HBox([Labels[1],w_wgt2]), Labels[2], HBox([VBox([Labels[i+5],w_Wamp[i]]) for i in range(5)]) ])\n",
        "\n",
        "network = ['Short-Term Memory','Winner-Take-All']\n",
        "net = widgets.Tab()\n",
        "for i in range(2): net.set_title(i,network[i])\n",
        "net.children = [tab1,tab2]\n",
        "net.observe(plot_variables,'selected_index')\n",
        "\n",
        "run_button = widgets.Button(description='Run & Show!',icon='play-circle',button_style='success')\n",
        "run_button.on_click(run_show)\n",
        "\n",
        "out = widgets.Output()\n",
        "run_show()\n",
        "display(VBox([w_reset,net,run_button,out]))"
      ]
    },
    {
      "cell_type": "markdown",
      "metadata": {
        "id": "LZA41So41-SP"
      },
      "source": [
        "### Questions:\n",
        "1. Explain the functioning of the ‘short term memory’ network. Provide all details.  \n",
        "<br>\n",
        "2. Explain the functioning of the Winner-Take-All network providing all details.  \n",
        "<br>  \n",
        "3. How would the behavior of the short-term-memory network, and the winner-take-all network change if spike frequency adaptation were to be included?  \n",
        "<br>  \n",
        "4. Explain biological applications that might use the short-term memory network, a winner-take-all network, and the half-center oscillator.  "
      ]
    }
  ],
  "metadata": {
    "colab": {
      "name": "S6_STM_WTA.ipynb",
      "provenance": []
    },
    "kernelspec": {
      "display_name": "Python 3",
      "language": "python",
      "name": "python3"
    },
    "language_info": {
      "codemirror_mode": {
        "name": "ipython",
        "version": 3
      },
      "file_extension": ".py",
      "mimetype": "text/x-python",
      "name": "python",
      "nbconvert_exporter": "python",
      "pygments_lexer": "ipython3",
      "version": "3.8.16"
    }
  },
  "nbformat": 4,
  "nbformat_minor": 0
}
